{
 "cells": [
  {
   "cell_type": "markdown",
   "metadata": {},
   "source": [
    "# Food Waste in NYC Urban Environments\n",
    "\n",
    "This project is part of the CISC5380 course \"Programming With Python\" with Prof D. Smith, Spring 2025. Our team of five members is analyzing food waste patterns across urban populations in NYC, with a particular interest in understanding how various underlying factors contribute to this issue."
   ]
  },
  {
   "cell_type": "markdown",
   "metadata": {},
   "source": [
    "## Group Members\n",
    "\n",
    "- Simone Dinato\n",
    "- Julia Gasbarre\n",
    "- Holly Taswell\n",
    "- Michael Laryea\n",
    "- Yeboah Obiri"
   ]
  },
  {
   "cell_type": "markdown",
   "metadata": {},
   "source": [
    "## The Problem\n",
    "\n",
    "Food waste in urban environments is not only an economic and environmental challenge but also a complex social issue. In densely populated cities, significant amounts of food are discarded daily, leading to wasted resources, increased landfill use, and environmental degradation. Our project focuses on analyzing food waste patterns across urban populations, with a particular interest in understanding how various underlying factors contribute to this issue.\n",
    "\n",
    "Key dimensions of the problem include:\n",
    "- Socioeconomic Factors\n",
    "- Weather and Sustainability\n",
    "- Restaurant and Dining Trends\n",
    "- Waste Composition\n",
    "- Cultural Influences"
   ]
  },
  {
   "cell_type": "markdown",
   "metadata": {},
   "source": [
    "## Data to be Analyzed\n",
    "\n",
    "We will analyze several datasets including:\n",
    "\n",
    "1. NYC Department of Sanitation Annual Reports: Details on organic waste collections across NYC neighborhoods\n",
    "2. NYC Open Data Portal: Additional datasets on waste management and recycling initiatives\n",
    "3. USDA – Food Loss and Waste: National statistics on food waste for broader context\n",
    "4. Historical Weather Data for NYC: Climate data to analyze seasonal patterns\n",
    "5. Number and Location of Community Gardens in NYC: Data on community gardens as potential waste reduction solutions"
   ]
  },
  {
   "cell_type": "markdown",
   "metadata": {},
   "source": [
    "## Research Questions\n",
    "\n",
    "1. What are the relationships between food habits across different boroughs and neighborhoods in NYC, and how do these contribute to food waste and obesity rates?\n",
    "\n",
    "2. What strategies can NYC residents and businesses implement to minimize food waste, and how effective are alternative disposal methods in diverting waste from landfills?\n",
    "\n",
    "3. To what extent do community gardens in each borough influence food waste reduction, and what role do they play in promoting sustainable food consumption?\n",
    "\n",
    "4. How do extreme temperatures and weather events impact food waste patterns in NYC, and what adaptive measures can mitigate these effects?\n",
    "\n",
    "5. How do the density of food establishments and the rigor of health inspection standards in different neighborhoods correlate with food waste levels in NYC?"
   ]
  },
  {
   "cell_type": "markdown",
   "metadata": {},
   "source": [
    "## Initial Hypotheses\n",
    "\n",
    "1. Education, behavioral change, and liability protection play a critical role in reducing food waste in NYC.\n",
    "   - Increased public awareness and education on food sustainability will lead to more responsible consumption and waste reduction.\n",
    "   - Policies that protect businesses from liability when donating surplus food will encourage greater participation in food redistribution programs.\n",
    "\n",
    "2. A higher density of community gardens in a borough will correlate with lower food waste levels.\n",
    "   - Community gardens promote food literacy, composting, and local food sourcing, leading to reduced over-purchasing and waste.\n",
    "\n",
    "3. More frequent and intense weather events will initially reduce food waste but may lead to long-term inefficiencies in food distribution.\n",
    "   - Extreme weather may disrupt supply chains, limiting food availability and reducing waste temporarily.\n",
    "   - However, prolonged disruptions could result in increased spoilage due to storage limitations and logistical challenges.\n",
    "\n",
    "4. The number and type of restaurants in an area influence the amount of food waste produced.\n",
    "   - Higher restaurant density may lead to increased food waste due to competition and unsold inventory.\n",
    "   - The type of cuisine and service model (e.g., buffet-style vs. à la carte) affects portion sizes, excess inventory, and disposal practices."
   ]
  },
  {
   "cell_type": "markdown",
   "metadata": {},
   "source": [
    "## Main Hypothesis\n",
    "\n",
    "The patterns in the amount of food waste in NYC can be predicted using information from related fields."
   ]
  },
  {
   "cell_type": "markdown",
   "metadata": {},
   "source": [
    "## Intended Analyses\n",
    "\n",
    "We plan to utilize statistical analysis including linear regressions to identify relationships between the data. Only data points with a relationship to food waste will be analyzed past the initial exploration stage. Strong predictors will be chosen to create a prediction model."
   ]
  }
 ],
 "metadata": {
  "language_info": {
   "codemirror_mode": {
    "name": "ipython",
    "version": 3
   },
   "file_extension": ".py",
   "mimetype": "text/x-python",
   "name": "python",
   "nbconvert_exporter": "python",
   "pygments_lexer": "ipython3",
   "version": "3.11.5"
  }
 },
 "nbformat": 4,
 "nbformat_minor": 2
}